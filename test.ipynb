{
 "cells": [
  {
   "cell_type": "code",
   "execution_count": 1,
   "metadata": {},
   "outputs": [
    {
     "name": "stderr",
     "output_type": "stream",
     "text": [
      "c:\\Users\\user\\anaconda3\\envs\\deepcase\\lib\\site-packages\\scipy\\__init__.py:146: UserWarning: A NumPy version >=1.16.5 and <1.23.0 is required for this version of SciPy (detected version 1.23.4\n",
      "  warnings.warn(f\"A NumPy version >={np_minversion} and <{np_maxversion}\"\n"
     ]
    }
   ],
   "source": [
    "%load_ext autoreload\n",
    "%autoreload 2\n",
    "from main import do\n",
    "from main import do_v2\n",
    "import numpy as np\n",
    "from sklearn.model_selection import train_test_split\n",
    "from preprocess import contents2count, contents2count_v2\n",
    "from sklearn.metrics.pairwise import cosine_similarity\n",
    "from preprocess import AE2\n",
    "from tqdm import tqdm\n",
    "from sklearn.metrics import f1_score\n",
    "import pandas as pd \n",
    "from collections import Counter\n",
    "import random\n",
    "from glob import glob\n",
    "import os\n"
   ]
  },
  {
   "cell_type": "code",
   "execution_count": 2,
   "metadata": {},
   "outputs": [],
   "source": [
    "def hex2ascii(x):\n",
    "    output = ''\n",
    "    for i in range(0,len(x),2):\n",
    "        tmp = str(x[i:i+2])\n",
    "        output+=chr(int(tmp,16))\n",
    "    return output"
   ]
  },
  {
   "cell_type": "code",
   "execution_count": 3,
   "metadata": {},
   "outputs": [],
   "source": [
    "def read_opendata(path):\n",
    "    datas_ = []\n",
    "    for paths in glob(os.path.join(path,'*.txt')):\n",
    "        datas = []\n",
    "        with open(paths) as f:\n",
    "            event=''\n",
    "            tmp1=''\n",
    "            tmp2=''\n",
    "            for i in f.readlines():\n",
    "                if (i[:3]=='GET' )| (i[:4]=='POST'):\n",
    "                    datas.append(event)\n",
    "                    event = i\n",
    "                else:\n",
    "                    event+=i\n",
    "        datas_.append(datas[1:])\n",
    "\n",
    "\n",
    "\n",
    "    labels = list(map(lambda x: np.zeros(len(x)), datas_))\n",
    "    labels[0] +=1\n",
    "\n",
    "    del datas\n",
    "    tr1,te1 =  train_test_split(datas_[0],test_size=0.2,shuffle=True,random_state=666)\n",
    "    tr2,te2 =  train_test_split(datas_[1],test_size=0.2,shuffle=True,random_state=666)\n",
    "\n",
    "    train = tr1 + tr2\n",
    "    train_label = np.array([0]*len(tr1) + [1]*len(tr2))\n",
    "    test = te1 + te2\n",
    "    test_label = np.array([0]*len(te1) + [1]*len(te2))\n",
    "\n",
    "    train = list(map(lambda x: \"\\n\".join([x.splitlines()[0],x.splitlines()[-2]]) , train))\n",
    "    test_ = list(map(lambda x: \"\\n\".join([x.splitlines()[0],x.splitlines()[-2]]) , test))\n",
    "    return train, test_ ,train_label,test_label"
   ]
  },
  {
   "cell_type": "code",
   "execution_count": 4,
   "metadata": {},
   "outputs": [],
   "source": [
    "def find_centroid(res,test,th):\n",
    "    \n",
    "    cluster_center = {}\n",
    "    for i in res[1]:\n",
    "        cluster_center[i] = np.mean(res[1][i],axis=0)\n",
    "\n",
    "    ress = []\n",
    "    keys = list(cluster_center.keys())\n",
    "    cluster_center_vectors = np.array(list(cluster_center.values()))\n",
    "\n",
    "    for ev in tqdm(test):\n",
    "        ev = ev.reshape(1,-1)\n",
    "        sim = cosine_similarity(ev,cluster_center_vectors)\n",
    "        sim_max = np.max(sim)\n",
    "        if sim_max<th:\n",
    "            ress.append(-1)\n",
    "        else:\n",
    "            ress.append(keys[np.argmax(sim)])\n",
    "\n",
    "    return np.array(ress)"
   ]
  },
  {
   "cell_type": "code",
   "execution_count": 11,
   "metadata": {},
   "outputs": [],
   "source": [
    "def random_pick(x,n):\n",
    "    p = np.random.choice(int(x[0]+x[1]-1), n,replace=False)\n",
    "    return np.array(list(map(lambda y: 0 if x[0]>y  else 1 , p)))"
   ]
  },
  {
   "cell_type": "code",
   "execution_count": 6,
   "metadata": {},
   "outputs": [],
   "source": [
    "def clustering_labeling(res,train_label,n):\n",
    "    df = pd.DataFrame([res,train_label])\n",
    "    df = df.transpose()\n",
    "    df.columns = ['pred','label']\n",
    "    values = df.groupby('pred').value_counts().reset_index()\n",
    "    card = df.groupby('pred').value_counts().reset_index().groupby('pred').nunique().reset_index()\n",
    "    card.columns = ['pred','label','card']\n",
    "    card[0]=0\n",
    "    card[1]=0\n",
    "\n",
    "    for _,i in values.iterrows():\n",
    "        card.loc[card.pred == i['pred'],i.label] = i[0]\n",
    "\n",
    "    card['ratio'] = card[1]/(card[0] + card[1])\n",
    "\n",
    "    card['random_pick'] = card.apply(random_pick,axis=1,n=n)\n",
    "    cluster_label = card.set_index('pred').random_pick.to_dict()\n",
    "    return card,cluster_label\n",
    " "
   ]
  },
  {
   "cell_type": "code",
   "execution_count": 17,
   "metadata": {},
   "outputs": [],
   "source": [
    "def testing(card,pred,cluster_label):\n",
    "    pred_ = np.array(list(map(lambda x: cluster_label[x],pred)))\n",
    "    return pred_"
   ]
  },
  {
   "cell_type": "code",
   "execution_count": 8,
   "metadata": {},
   "outputs": [
    {
     "name": "stderr",
     "output_type": "stream",
     "text": [
      "12134it [05:37, 35.95it/s]\n",
      "12134it [05:40, 35.59it/s]\n"
     ]
    },
    {
     "ename": "ValueError",
     "evalue": "a must be 1-dimensional or an integer",
     "output_type": "error",
     "traceback": [
      "\u001b[1;31m---------------------------------------------------------------------------\u001b[0m",
      "\u001b[1;31mTypeError\u001b[0m                                 Traceback (most recent call last)",
      "File \u001b[1;32mmtrand.pyx:905\u001b[0m, in \u001b[0;36mnumpy.random.mtrand.RandomState.choice\u001b[1;34m()\u001b[0m\n",
      "\u001b[1;31mTypeError\u001b[0m: 'float' object cannot be interpreted as an integer",
      "\nDuring handling of the above exception, another exception occurred:\n",
      "\u001b[1;31mValueError\u001b[0m                                Traceback (most recent call last)",
      "Cell \u001b[1;32mIn [8], line 14\u001b[0m\n\u001b[0;32m     10\u001b[0m cluster_center \u001b[39m=\u001b[39m find_centroid(res,test,th)\n\u001b[0;32m     12\u001b[0m pred \u001b[39m=\u001b[39m find_centroid(res,test,th)\n\u001b[1;32m---> 14\u001b[0m card,cluster_label \u001b[39m=\u001b[39m clustering_labeling(res[\u001b[39m0\u001b[39;49m],train_label,n)\n\u001b[0;32m     16\u001b[0m pred_ \u001b[39m=\u001b[39m testing(card,pred,cluster_label)\n\u001b[0;32m     17\u001b[0m coverage_index \u001b[39m=\u001b[39m pred\u001b[39m!=\u001b[39m\u001b[39m-\u001b[39m\u001b[39m1\u001b[39m\n",
      "Cell \u001b[1;32mIn [6], line 16\u001b[0m, in \u001b[0;36mclustering_labeling\u001b[1;34m(res, train_label, n)\u001b[0m\n\u001b[0;32m     12\u001b[0m     card\u001b[39m.\u001b[39mloc[card\u001b[39m.\u001b[39mpred \u001b[39m==\u001b[39m i[\u001b[39m'\u001b[39m\u001b[39mpred\u001b[39m\u001b[39m'\u001b[39m],i\u001b[39m.\u001b[39mlabel] \u001b[39m=\u001b[39m i[\u001b[39m0\u001b[39m]\n\u001b[0;32m     14\u001b[0m card[\u001b[39m'\u001b[39m\u001b[39mratio\u001b[39m\u001b[39m'\u001b[39m] \u001b[39m=\u001b[39m card[\u001b[39m1\u001b[39m]\u001b[39m/\u001b[39m(card[\u001b[39m0\u001b[39m] \u001b[39m+\u001b[39m card[\u001b[39m1\u001b[39m])\n\u001b[1;32m---> 16\u001b[0m card[\u001b[39m'\u001b[39m\u001b[39mrandom_pick\u001b[39m\u001b[39m'\u001b[39m] \u001b[39m=\u001b[39m card\u001b[39m.\u001b[39;49mapply(random_pick,axis\u001b[39m=\u001b[39;49m\u001b[39m1\u001b[39;49m,n\u001b[39m=\u001b[39;49mn)\n\u001b[0;32m     17\u001b[0m cluster_label \u001b[39m=\u001b[39m card\u001b[39m.\u001b[39mset_index(\u001b[39m'\u001b[39m\u001b[39mpred\u001b[39m\u001b[39m'\u001b[39m)\u001b[39m.\u001b[39mrandom_pick\u001b[39m.\u001b[39mto_dict()\n\u001b[0;32m     18\u001b[0m \u001b[39mreturn\u001b[39;00m card,cluster_label\n",
      "File \u001b[1;32mc:\\Users\\user\\anaconda3\\envs\\deepcase\\lib\\site-packages\\pandas\\core\\frame.py:9555\u001b[0m, in \u001b[0;36mDataFrame.apply\u001b[1;34m(self, func, axis, raw, result_type, args, **kwargs)\u001b[0m\n\u001b[0;32m   9544\u001b[0m \u001b[39mfrom\u001b[39;00m \u001b[39mpandas\u001b[39;00m\u001b[39m.\u001b[39;00m\u001b[39mcore\u001b[39;00m\u001b[39m.\u001b[39;00m\u001b[39mapply\u001b[39;00m \u001b[39mimport\u001b[39;00m frame_apply\n\u001b[0;32m   9546\u001b[0m op \u001b[39m=\u001b[39m frame_apply(\n\u001b[0;32m   9547\u001b[0m     \u001b[39mself\u001b[39m,\n\u001b[0;32m   9548\u001b[0m     func\u001b[39m=\u001b[39mfunc,\n\u001b[1;32m   (...)\u001b[0m\n\u001b[0;32m   9553\u001b[0m     kwargs\u001b[39m=\u001b[39mkwargs,\n\u001b[0;32m   9554\u001b[0m )\n\u001b[1;32m-> 9555\u001b[0m \u001b[39mreturn\u001b[39;00m op\u001b[39m.\u001b[39;49mapply()\u001b[39m.\u001b[39m__finalize__(\u001b[39mself\u001b[39m, method\u001b[39m=\u001b[39m\u001b[39m\"\u001b[39m\u001b[39mapply\u001b[39m\u001b[39m\"\u001b[39m)\n",
      "File \u001b[1;32mc:\\Users\\user\\anaconda3\\envs\\deepcase\\lib\\site-packages\\pandas\\core\\apply.py:746\u001b[0m, in \u001b[0;36mFrameApply.apply\u001b[1;34m(self)\u001b[0m\n\u001b[0;32m    743\u001b[0m \u001b[39melif\u001b[39;00m \u001b[39mself\u001b[39m\u001b[39m.\u001b[39mraw:\n\u001b[0;32m    744\u001b[0m     \u001b[39mreturn\u001b[39;00m \u001b[39mself\u001b[39m\u001b[39m.\u001b[39mapply_raw()\n\u001b[1;32m--> 746\u001b[0m \u001b[39mreturn\u001b[39;00m \u001b[39mself\u001b[39;49m\u001b[39m.\u001b[39;49mapply_standard()\n",
      "File \u001b[1;32mc:\\Users\\user\\anaconda3\\envs\\deepcase\\lib\\site-packages\\pandas\\core\\apply.py:873\u001b[0m, in \u001b[0;36mFrameApply.apply_standard\u001b[1;34m(self)\u001b[0m\n\u001b[0;32m    872\u001b[0m \u001b[39mdef\u001b[39;00m \u001b[39mapply_standard\u001b[39m(\u001b[39mself\u001b[39m):\n\u001b[1;32m--> 873\u001b[0m     results, res_index \u001b[39m=\u001b[39m \u001b[39mself\u001b[39;49m\u001b[39m.\u001b[39;49mapply_series_generator()\n\u001b[0;32m    875\u001b[0m     \u001b[39m# wrap results\u001b[39;00m\n\u001b[0;32m    876\u001b[0m     \u001b[39mreturn\u001b[39;00m \u001b[39mself\u001b[39m\u001b[39m.\u001b[39mwrap_results(results, res_index)\n",
      "File \u001b[1;32mc:\\Users\\user\\anaconda3\\envs\\deepcase\\lib\\site-packages\\pandas\\core\\apply.py:889\u001b[0m, in \u001b[0;36mFrameApply.apply_series_generator\u001b[1;34m(self)\u001b[0m\n\u001b[0;32m    886\u001b[0m \u001b[39mwith\u001b[39;00m option_context(\u001b[39m\"\u001b[39m\u001b[39mmode.chained_assignment\u001b[39m\u001b[39m\"\u001b[39m, \u001b[39mNone\u001b[39;00m):\n\u001b[0;32m    887\u001b[0m     \u001b[39mfor\u001b[39;00m i, v \u001b[39min\u001b[39;00m \u001b[39menumerate\u001b[39m(series_gen):\n\u001b[0;32m    888\u001b[0m         \u001b[39m# ignore SettingWithCopy here in case the user mutates\u001b[39;00m\n\u001b[1;32m--> 889\u001b[0m         results[i] \u001b[39m=\u001b[39m \u001b[39mself\u001b[39;49m\u001b[39m.\u001b[39;49mf(v)\n\u001b[0;32m    890\u001b[0m         \u001b[39mif\u001b[39;00m \u001b[39misinstance\u001b[39m(results[i], ABCSeries):\n\u001b[0;32m    891\u001b[0m             \u001b[39m# If we have a view on v, we need to make a copy because\u001b[39;00m\n\u001b[0;32m    892\u001b[0m             \u001b[39m#  series_generator will swap out the underlying data\u001b[39;00m\n\u001b[0;32m    893\u001b[0m             results[i] \u001b[39m=\u001b[39m results[i]\u001b[39m.\u001b[39mcopy(deep\u001b[39m=\u001b[39m\u001b[39mFalse\u001b[39;00m)\n",
      "File \u001b[1;32mc:\\Users\\user\\anaconda3\\envs\\deepcase\\lib\\site-packages\\pandas\\core\\apply.py:139\u001b[0m, in \u001b[0;36mApply.__init__.<locals>.f\u001b[1;34m(x)\u001b[0m\n\u001b[0;32m    138\u001b[0m \u001b[39mdef\u001b[39;00m \u001b[39mf\u001b[39m(x):\n\u001b[1;32m--> 139\u001b[0m     \u001b[39mreturn\u001b[39;00m func(x, \u001b[39m*\u001b[39margs, \u001b[39m*\u001b[39m\u001b[39m*\u001b[39mkwargs)\n",
      "Cell \u001b[1;32mIn [5], line 2\u001b[0m, in \u001b[0;36mrandom_pick\u001b[1;34m(x, n)\u001b[0m\n\u001b[0;32m      1\u001b[0m \u001b[39mdef\u001b[39;00m \u001b[39mrandom_pick\u001b[39m(x,n):\n\u001b[1;32m----> 2\u001b[0m     p \u001b[39m=\u001b[39m np\u001b[39m.\u001b[39;49mrandom\u001b[39m.\u001b[39;49mchoice(x[\u001b[39m0\u001b[39;49m]\u001b[39m+\u001b[39;49mx[\u001b[39m1\u001b[39;49m]\u001b[39m-\u001b[39;49m\u001b[39m1\u001b[39;49m, n,replace\u001b[39m=\u001b[39;49m\u001b[39mFalse\u001b[39;49;00m)\n\u001b[0;32m      3\u001b[0m     \u001b[39mreturn\u001b[39;00m np\u001b[39m.\u001b[39marray(\u001b[39mlist\u001b[39m(\u001b[39mmap\u001b[39m(\u001b[39mlambda\u001b[39;00m y: \u001b[39m0\u001b[39m \u001b[39mif\u001b[39;00m x[\u001b[39m0\u001b[39m]\u001b[39m>\u001b[39my  \u001b[39melse\u001b[39;00m \u001b[39m1\u001b[39m , p)))\n",
      "File \u001b[1;32mmtrand.pyx:907\u001b[0m, in \u001b[0;36mnumpy.random.mtrand.RandomState.choice\u001b[1;34m()\u001b[0m\n",
      "\u001b[1;31mValueError\u001b[0m: a must be 1-dimensional or an integer"
     ]
    }
   ],
   "source": [
    "\n",
    "th = 0.95\n",
    "n = 1\n",
    "\n",
    "train, test_ ,train_label,test_label =  read_opendata('./dataset/')\n",
    "\n",
    "res = do_v2(train,512,4,th,th,3)\n",
    "\n",
    "test = res[-1].transform(test_)\n",
    "\n",
    "cluster_center = find_centroid(res,test,th)\n",
    "\n",
    "pred = find_centroid(res,test,th)\n",
    "\n",
    "card,cluster_label = clustering_labeling(res[0],train_label,n)\n",
    "\n",
    "pred_ = testing(card,pred,cluster_label)\n",
    "coverage_index = pred!=-1\n",
    "\n",
    "f1  = f1_score(test_label[coverage_index],pred_[coverage_index])\n",
    "\n",
    "coverage = coverage_index.sum()/coverage_index.shape[0]\n",
    "\n",
    "card,cluster_label = clustering_labeling(res[0],train_label,n)\n",
    "\n",
    "pred_ = testing(card,pred,cluster_label)\n",
    "coverage_index = pred!=-1\n",
    "\n",
    "f1  = f1_score(test_label[coverage_index],pred_[coverage_index])\n",
    "\n",
    "coverage = coverage_index.sum()/coverage_index.shape[0]"
   ]
  }
 ],
 "metadata": {
  "kernelspec": {
   "display_name": "Python 3.10.8 ('deepcase')",
   "language": "python",
   "name": "python3"
  },
  "language_info": {
   "codemirror_mode": {
    "name": "ipython",
    "version": 3
   },
   "file_extension": ".py",
   "mimetype": "text/x-python",
   "name": "python",
   "nbconvert_exporter": "python",
   "pygments_lexer": "ipython3",
   "version": "3.10.8"
  },
  "orig_nbformat": 4,
  "vscode": {
   "interpreter": {
    "hash": "65fff2cfb182d60db35454cc37f65ab1b44494357178ffadfbb27a8abfc5c322"
   }
  }
 },
 "nbformat": 4,
 "nbformat_minor": 2
}
